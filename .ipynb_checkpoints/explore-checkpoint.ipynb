{
 "cells": [
  {
   "cell_type": "markdown",
   "metadata": {},
   "source": [
    "# Code"
   ]
  },
  {
   "cell_type": "markdown",
   "metadata": {},
   "source": [
    "### Config - imports, constants, and mappings"
   ]
  },
  {
   "cell_type": "code",
   "execution_count": 1,
   "metadata": {},
   "outputs": [],
   "source": [
    "import astropy\n",
    "from astropy.io import fits\n",
    "from astropy.table import Table\n",
    "\n",
    "import pandas as pd\n",
    "import numpy as np\n",
    "import matplotlib.pyplot as plt\n",
    "\n",
    "import random\n",
    "\n",
    "output_dir = \"../output/\"\n",
    "\n",
    "\"\"\" \n",
    "The groupings below map specific data-based claimed types to larger \n",
    "groupings. For example: nIa, Ia, Ia*, and Ia-HV all map to Ia.\n",
    "Any new claimed types to be considered in the analysis need to be added \n",
    "here and mapped to a larger group, which also needs to be in cat_code\n",
    "\"\"\"\n",
    "groupings = {\n",
    "#     Ia\n",
    "    'nIa' : 'Ia',\n",
    "    'Ia' : 'Ia',\n",
    "    'Ia*' :'Ia',\n",
    "    'Ia-HV' :'Ia',\n",
    "#     'Ia-91T'\n",
    "    'Ia-91T' : 'Ia-91T',\n",
    "#     'Ia-91bg'\n",
    "    'Ia-91bg' : 'Ia-91bg',\n",
    "#     'Ib/Ic'\n",
    "    'IIb/Ib/Ic (Ca rich)' : 'Ib/Ic',\n",
    "    'Ib/Ic (Ca rich)' : 'Ib/Ic',\n",
    "    'Ib (Ca rich)' : 'Ib/Ic',\n",
    "#     'Ia CSM'\n",
    "    'Ia CSM' : 'Ia CSM',\n",
    "#     'Ia-02cx'\n",
    "    'Ia-02cx' : 'Ia-02cx',\n",
    "    'Iax[02cx-like]' : 'Ia-02cx',\n",
    "#     'II P'\n",
    "    'II P' : 'II P',\n",
    "    'II-p' : 'II P',\n",
    "    'II Pec' : 'II P',\n",
    "    'II P Pec' : 'II P',\n",
    "#     'II?' : 'II P',\n",
    "#     'II Pec?' : 'II P',\n",
    "#     'IIP?' : 'II P',\n",
    "    'II' : 'II P',\n",
    "#     'IIn'\n",
    "    'IIn' : 'IIn',\n",
    "    'IIn Pec' : 'IIn',\n",
    "    'LBV to IIn' : 'IIn',\n",
    "    'IIn-pec/LBV' : 'IIn',\n",
    "#     'IIn?' : 'IIn',\n",
    "#     'Ib'\n",
    "    'Ib' : 'Ib',\n",
    "    'Ibn' : 'Ib',\n",
    "#     'Ic'\n",
    "    'Ic' : 'Ic',\n",
    "#     'Ic?' : 'Ic',\n",
    "    'Ic-lum?' : 'Ic',\n",
    "    'Ic Pec' : 'Ic',\n",
    "#     Ic BL\n",
    "    'Ic BL' : 'Ic BL',\n",
    "    'BL-Ic' : 'Ic BL',\n",
    "#     'SLSN-II?'\n",
    "#     'SLSN-II?' : 'SLSN-II?',\n",
    "#     'SLSN-I'\n",
    "    'SLSN-I' : 'SLSN-I',\n",
    "#     'LGRB'\n",
    "    'LGRB' : 'LGRB'\n",
    "}\n",
    "\n",
    "\n",
    "\n",
    "\"\"\"\n",
    "Claimed Type categories, mapped to integer values.\n",
    "The integer values are used by the ML model.\n",
    "\"\"\" \n",
    "cat_code = {\n",
    "    'Other' : 0,\n",
    "    'LGRB': 1,\n",
    "    'Ia' : 2, \n",
    "    'II P': 3, \n",
    "    'Ib' : 4,\n",
    "    'Ic' : 5, \n",
    "    'IIn': 6, \n",
    "    'SLSN-I' : 7, \n",
    "    'Ia-02cx' : 8,\n",
    "    'Ic BL' : 9, \n",
    "    'SLSN-II?': 10, \n",
    "    'Ia-91bg' : 11, \n",
    "    'Ia-91T' : 12, \n",
    "    'Ia CSM' : 13\n",
    "    \n",
    "}"
   ]
  },
  {
   "cell_type": "markdown",
   "metadata": {},
   "source": [
    "### Prep Data"
   ]
  },
  {
   "cell_type": "markdown",
   "metadata": {},
   "source": [
    "##### Convert .fits data to Pandas DataFrame"
   ]
  },
  {
   "cell_type": "code",
   "execution_count": 2,
   "metadata": {},
   "outputs": [],
   "source": [
    "def collect_data(file = '../data/osc+otc-Assembled.fits'):\n",
    "    dat = Table.read(file, format='fits')\n",
    "    df_bytes = dat.to_pandas()  # Convert to pandas dataframe\n",
    "    df = pd.DataFrame()     # Init empty dataframe for converted types\n",
    "\n",
    "    # Convert byte columns to strings\n",
    "    for column in df_bytes:\n",
    "        if df_bytes[column].dtype == np.dtype('object'):\n",
    "            df[column + \"_str\"] = df_bytes[column].str.decode(\"utf-8\")\n",
    "            df[column] = df[column + \"_str\"].copy()\n",
    "            df.drop(column + \"_str\", axis = 1, inplace = True)\n",
    "        else:\n",
    "            df[column] = df_bytes[column]\n",
    "\n",
    "    # Prints sum of NULL values by column\n",
    "    df.isnull().sum().to_csv(output_dir + \"Missing_Values.csv\")\n",
    "    return df"
   ]
  },
  {
   "cell_type": "markdown",
   "metadata": {},
   "source": [
    "##### Group by Claimed Type and Redshift"
   ]
  },
  {
   "cell_type": "code",
   "execution_count": 3,
   "metadata": {},
   "outputs": [],
   "source": [
    "def group_cts(valid_df):\n",
    "    # Group claimed types into supergroups, defined in groupings dict\n",
    "    valid_df['claimedtype_group'] = valid_df.apply(lambda row:  \n",
    "                                             groupings[row.claimedtype] \n",
    "                                             if row.claimedtype in groupings \n",
    "                                             else None,\n",
    "                                             axis=1)\n",
    "\n",
    "    # Dataframe of claimed types that do not have group\n",
    "    ungrouped_types = list(set(valid_df.claimedtype.unique()) - set(groupings.keys()))\n",
    "    print(str(len(ungrouped_types)) + \" rows with ungrouped claimed type.\")\n",
    "\n",
    "    # Claimed Types that need to be grouped\n",
    "    add_cts = []\n",
    "    for ct in list(valid_df.claimedtype.unique()):\n",
    "        if \",\" not in ct and ct != '' and ct not in groupings:\n",
    "            add_cts.append(ct)\n",
    "    # Drop rows with no grouped claimed type      \n",
    "    valid_df = valid_df[~valid_df['claimedtype_group'].isnull()]\n",
    "    print (\"Remaining rows in valid dataframe: \" + str(valid_df.shape[0]))\n",
    "    \n",
    "    return valid_df\n"
   ]
  },
  {
   "cell_type": "markdown",
   "metadata": {},
   "source": [
    "# Machine Learning Analysis"
   ]
  },
  {
   "cell_type": "code",
   "execution_count": 4,
   "metadata": {},
   "outputs": [],
   "source": [
    "from sklearn.preprocessing import LabelEncoder\n",
    "\n",
    "from sklearn.model_selection import train_test_split\n",
    "from sklearn.metrics import accuracy_score\n",
    "from sklearn.metrics import classification_report\n",
    "from sklearn.metrics import recall_score\n",
    "from sklearn.metrics import precision_score\n",
    "from sklearn.metrics import f1_score\n",
    "\n",
    "import sklearn.metrics as skm\n",
    "\n",
    "from sklearn.ensemble import RandomForestClassifier\n"
   ]
  },
  {
   "cell_type": "markdown",
   "metadata": {},
   "source": [
    "#### Set up source and target data, subsample source"
   ]
  },
  {
   "cell_type": "code",
   "execution_count": 5,
   "metadata": {},
   "outputs": [],
   "source": [
    "def sub_sample(df, oversampled_val, undersampled_val, col_val):\n",
    "    \"\"\"\n",
    "    Sub-samples over-represented class\n",
    "    :param df: the dataframe to manipulate\n",
    "    :param oversampled_val: the value of the class that is over-represented\n",
    "    :param col_val: the column name for the value\n",
    "    \"\"\"\n",
    "    oversample = df[df[col_val] == oversampled_val]\n",
    "    undersample = df[df[col_val] == undersampled_val]\n",
    "    if undersample.shape[0] == 0:\n",
    "        raise ValueError('The undersampled transient class has no data for this redshift bin/feature set.')\n",
    "    keep_oversampled = oversample.sample(n = undersample.shape[0])\n",
    "    remaining = df[(df[col_val] != undersampled_val) & (df[col_val] != oversampled_val)]\n",
    "    sub_df = pd.concat([keep_oversampled, undersample, remaining])\n",
    "    \n",
    "#     Print stuff\n",
    "#     print(\"# of oversampled remaining \" + str(oversampled_val)  + \" is \" + str(keep_oversampled.shape[0]))\n",
    "#     print(\"# of under sampled remaining \" + str(undersampled_val)  + \" is \" + str(undersample.shape[0]))\n",
    "    \n",
    "    return pd.concat([keep_oversampled, undersample, remaining])\n",
    "\n",
    "def set_up_target(df_rs_band):\n",
    "    \"\"\" \n",
    "    Sets up Target dataframe. Converts claimedtype_group strings to numeric codes \n",
    "    using cat_code map above\n",
    "    \"\"\"\n",
    "    df_analyze = df_rs_band.copy()\n",
    "    # Split out claimedtype_group into new dataframe\n",
    "    y = df_analyze.claimedtype_group.to_frame(name='group')\n",
    "    # Use category code numbers from cat_code dict, instead of strings\n",
    "    y['cat_code'] = y.apply(lambda row:  cat_code[row.group] , axis=1)\n",
    "    y = y.drop('group', axis = 1)\n",
    "    return y\n",
    "\n",
    "\n",
    "def set_up_source(df_analyze):\n",
    "    X = df_analyze.copy()\n",
    "    X = X.drop(['redshift', 'claimedtype_group'], axis = 1)\n",
    "        \n",
    "    # Encode all letters as numbers\n",
    "    le = LabelEncoder()\n",
    "    encoded_series = X[X.columns[:]].apply(le.fit_transform)\n",
    "    X = encoded_series\n",
    "    \n",
    "    return X\n",
    "\n",
    "def split_train_test(X, y):\n",
    "    # Split Training and Testing Data\n",
    "    X_train, X_test, y_train, y_test = train_test_split(X, y, test_size=0.33, random_state=2)\n",
    "    return X_train, X_test, y_train, y_test"
   ]
  },
  {
   "cell_type": "markdown",
   "metadata": {},
   "source": [
    "#### Random Forest Classifier"
   ]
  },
  {
   "cell_type": "code",
   "execution_count": 6,
   "metadata": {
    "scrolled": false
   },
   "outputs": [],
   "source": [
    "def run_rm(X_train, X_test, y_train, y_test):\n",
    "    clf = RandomForestClassifier(max_depth = 8, random_state = 0, class_weight = \"balanced\")\n",
    "    clf.fit(X_train, y_train)\n",
    "    predictions = clf.predict(X_test)\n",
    "    return clf, predictions\n",
    "\n",
    "def get_performance(y_test, predictions):\n",
    "    return classification_report(y_test, predictions)\n",
    "\n",
    "def get_feature_importance(clf, X_train):\n",
    "    feature_importances = pd.DataFrame(clf.feature_importances_,\n",
    "                                       index = X_train.columns,\n",
    "                                       columns=['importance'])\n",
    "    feature_importances = feature_importances.sort_values('importance', \n",
    "                                                          ascending = False)\n",
    "    return feature_importances\n",
    "\n",
    "def get_probabilities(class_num):\n",
    "    \"\"\"\n",
    "    Gets probabilities for specific transient class\n",
    "    :param class_num: the index of the class code corresponding to transient class, from clf.classes_\n",
    "    \"\"\"\n",
    "    pps = clf.predict_proba(X_test)\n",
    "    class_probs = []\n",
    "    for probs in pps:\n",
    "        for idx, val in enumerate(probs):\n",
    "            cur_class = clf.classes_[idx]\n",
    "            if cur_class == class_num: \n",
    "                class_probs.append(val)\n",
    "    return class_probs"
   ]
  },
  {
   "cell_type": "markdown",
   "metadata": {},
   "source": [
    "### Model"
   ]
  },
  {
   "cell_type": "code",
   "execution_count": 7,
   "metadata": {},
   "outputs": [],
   "source": [
    "def prep_data(data_df, col_list, min_redshift, max_redshift, subsample = None, oneall = None):\n",
    "    grouped_df = group_cts(data_df) # group claimed types\n",
    "    valid_df = grouped_df.copy()\n",
    "    \n",
    "    valid_df = valid_df[col_list + ['redshift', 'claimedtype_group']] # Select features\n",
    "    #  Filter on redshift band\n",
    "    df_rs_band = valid_df.loc[(valid_df.redshift > min_redshift) & (valid_df.redshift <= max_redshift)] \n",
    "    \n",
    "    df_rs_band = df_rs_band.dropna() # Drop NULL before subsampling to ensure equal class distribution \n",
    "\n",
    "    if subsample:  #   Subsample Ia down to II P count\n",
    "        df_rs_band = sub_sample(df = df_rs_band, \n",
    "                                oversampled_val = subsample, \n",
    "                                undersampled_val = 'II P', \n",
    "                                col_val = 'claimedtype_group')  \n",
    "        \n",
    "    # 1 class, oneall, versus all other classes (grouped into Other)\n",
    "    if oneall: \n",
    "        one = df_rs_band.loc[df_rs_band.claimedtype_group == oneall]\n",
    "        rem = df_rs_band.loc[df_rs_band.claimedtype_group != oneall].copy()\n",
    "        rem.claimedtype_group = 'Other'\n",
    "        df_rs_band = pd.concat([one, rem])\n",
    "\n",
    "    # Return source and target split up\n",
    "    y = set_up_target(df_rs_band)\n",
    "    X = set_up_source(df_rs_band)\n",
    "    \n",
    "    return X, y\n",
    "\n",
    "def run_analysis(data_df, col_list, min_redshift, max_redshift, subsample = None, oneall = None):\n",
    "    \"\"\"\n",
    "    This is the main driver for the model. \n",
    "    :param data_df: dataframe with all data returned from collect_data function\n",
    "    :param col_list: array of column names (features) on which to run the model\n",
    "    :param min_redshift: minimum redshift to consider (exclusive)\n",
    "    :param max_redshift: maximum redshift to consider (inclusive)\n",
    "    :param subsample: claimed type group to subsample, must be one of the keys in the cat_code map, will be reduced\n",
    "    to either the number of II P or the 'Other' category if doing oneall\n",
    "    :param oneall: the transient class to classify against all others. Does One vs All classification on this specific\n",
    "    claimed type group. Must be a claimed type group from the cat_code map. \n",
    "    \"\"\"\n",
    "    X, y = prep_data(data_df, col_list, \n",
    "                     min_redshift, \n",
    "                     max_redshift, \n",
    "                     subsample,\n",
    "                     oneall)\n",
    "    print(\"Rows run through classifier in training data: \" + str(X.shape[0]))\n",
    "    X_train, X_test, y_train, y_test = split_train_test(X, y)\n",
    "\n",
    "    clf, predictions = run_rm(X_train, X_test, y_train, y_test)\n",
    "    get_feature_importance(clf, X_train)\n",
    "    print(classification_report(y_test, predictions))\n",
    "    return clf, X_train, X_test, y_test, predictions"
   ]
  },
  {
   "cell_type": "markdown",
   "metadata": {},
   "source": [
    "# Run Analysis"
   ]
  },
  {
   "cell_type": "markdown",
   "metadata": {},
   "source": [
    "Run the entire analysis using the cells below. Uses a sample of the original data with redshift within min_redshift and max_redshift, and using only fields in the col_list of the analysis. \n",
    "\n",
    "col_list - the list of data fields to use in the machine learning algorithm. They have been subdivided into spectral columns (available in the cell below). The reason for this is to consider only the spectra in the analysis. Considering any other fields leads to a higher risk of having a biased algorithm favoring redshift-driven characteristics. \n",
    "\n",
    "min_redshift - The minimum redshift to consider for the data sample, exclusive\n",
    "\n",
    "max_redshift - The maximum redshift to consider for the data sample, inclusive"
   ]
  },
  {
   "cell_type": "code",
   "execution_count": 8,
   "metadata": {},
   "outputs": [],
   "source": [
    "#  Pull data from FITS file once\n",
    "data_df = collect_data(file = '../data/THEx-catalog.v0_0_3.fits')"
   ]
  },
  {
   "cell_type": "markdown",
   "metadata": {},
   "source": [
    "Feature collections"
   ]
  },
  {
   "cell_type": "code",
   "execution_count": 9,
   "metadata": {},
   "outputs": [],
   "source": [
    "ned_mass_cols = ['NED_2MASS_J', 'NED_2MASS_H', 'NED_2MASS_Ks']\n",
    "\n",
    "ned_sdss_cols = ['NED_SDSS_u', 'NED_SDSS_g', 'NED_SDSS_r', 'NED_SDSS_i', 'NED_SDSS_z']\n",
    "\n",
    "ned_galex_cols = ['NED_GALEX_NUV', 'NED_GALEX_FUV']\n",
    "\n",
    "# ned_iras_cols = ['NED_IRAS_12m', 'NED_IRAS_25m', 'NED_IRAS_60m', 'NED_IRAS_100m', 'NED_HI_21cm', 'NED_1p4GHz']\n",
    "\n",
    "# all_ned_cols = [col for col in list(data_df) if \"NED_\" in col] # All NED_\n",
    "\n",
    "# hyperleda = [col for col in list(data_df) if \"HyperLEDA\" in col] \n",
    "\n",
    "allwise = [col for col in list(data_df) if \"AllWISE\" in col]\n",
    "\n",
    "firefly_cols = [col for col in list(data_df) if \"Firefly\" in col] # Firefly\n",
    "\n",
    "mpa_cols = [col for col in list(data_df) if \"MPAJHU\" in col] # MPAJHU\n",
    "\n",
    "zoo_cols = [col for col in list(data_df) if \"Zoo\" in col] # GalaxyZoo\n",
    "\n",
    "gswlc = [col for col in list(data_df) if \"GSWLC\" in col] # GSWLC\n",
    "\n",
    "wiscpca = [col for col in list(data_df) if \"WiscPCA\" in col] # WiscPCA\n",
    "\n",
    "nsa = [col for col in list(data_df) if \"NSA_\" in col] # NSA\n",
    "\n",
    "scos = [col for col in list(data_df) if \"SCOS_\" in col] # SCOS\n",
    "\n",
    "ps1 = [col for col in list(data_df) if \"PS1\" in col] # PS1\n",
    "\n",
    "full = scos + ps1 + nsa + wiscpca + gswlc + zoo_cols + mpa_cols"
   ]
  },
  {
   "cell_type": "code",
   "execution_count": 72,
   "metadata": {},
   "outputs": [],
   "source": [
    "###################### Update to change column list\n",
    "# data_name = 'Galaxy Zoo'\n",
    "# col_set = zoo_cols\n",
    "# data_name = 'GSWLC'\n",
    "# col_set = gswlc\n",
    "\n",
    "# data_name = 'Firefly'\n",
    "# col_set = firefly_cols \n",
    "\n",
    "data_name = \"ALLWISE\"\n",
    "col_set = allwise\n",
    "\n",
    "data_name = \"SCOS\"\n",
    "col_set = scos\n",
    "\n",
    "col_set = nsa\n",
    "data_name = \"NSA\"\n",
    "\n",
    "col_set = ned_galex_cols\n",
    "data_name = \"GALEX\"\n",
    "\n",
    "col_set = ned_mass_cols\n",
    "data_name = '2MASS'"
   ]
  },
  {
   "cell_type": "code",
   "execution_count": 74,
   "metadata": {},
   "outputs": [
    {
     "name": "stdout",
     "output_type": "stream",
     "text": [
      "288 rows with ungrouped claimed type.\n",
      "Remaining rows in valid dataframe: 15483\n",
      "Rows run through classifier in training data: 2701\n",
      "             precision    recall  f1-score   support\n",
      "\n",
      "          0       0.65      0.58      0.61       539\n",
      "          3       0.45      0.53      0.49       353\n",
      "\n",
      "avg / total       0.57      0.56      0.56       892\n",
      "\n",
      "['Other']\n",
      "['II P']\n"
     ]
    },
    {
     "name": "stderr",
     "output_type": "stream",
     "text": [
      "/Users/marina/anaconda3/lib/python3.6/site-packages/ipykernel_launcher.py:3: DataConversionWarning: A column-vector y was passed when a 1d array was expected. Please change the shape of y to (n_samples,), for example using ravel().\n",
      "  This is separate from the ipykernel package so we can avoid doing imports until\n"
     ]
    },
    {
     "data": {
      "image/png": "[encoded data removed]",
      "text/plain": [
       "<Figure size 432x288 with 1 Axes>"
      ]
     },
     "metadata": {},
     "output_type": "display_data"
    }
   ],
   "source": [
    "oneval = 'II P'\n",
    "clf, X_train, X_test, y_test, predictions = run_analysis(data_df = data_df,\n",
    "                            col_list = col_set,  \n",
    "                            min_redshift = 0, \n",
    "                            max_redshift = 1,\n",
    "                            subsample = 'Ia',\n",
    "                            oneall = oneval)\n",
    "\n",
    "datas = []\n",
    "labels = []\n",
    "for class_num in clf.classes_:  # plot probability distribution per class\n",
    "    class_str = [key for key, val in cat_code.items() if val == class_num]\n",
    "    print(class_str)\n",
    "    ps = get_probabilities(class_num = class_num)\n",
    "    datas.append(ps)\n",
    "    labels.append(class_str[0])\n",
    "plt.hist(datas, label= labels)\n",
    "plt.legend(loc='upper right')\n",
    "plt.title(\"Probability Disribution of Other vs. \" + str(class_str[0]) + \" using \" + data_name)\n",
    "plt.xlabel(\"Probability\")\n",
    "plt.ylabel(\"Frequency\")\n",
    "f_name = (data_name + oneval).replace(\" \",\"\")\n",
    "plt.savefig(\"../remote/astronomy/galaxies/reports/data_analysis/figures/pds/\" + f_name)\n",
    "plt.show()\n",
    "\n",
    "# get_feature_importance(clf, X_train)"
   ]
  },
  {
   "cell_type": "markdown",
   "metadata": {},
   "source": [
    "### Plot probability distributions per class"
   ]
  },
  {
   "cell_type": "code",
   "execution_count": 361,
   "metadata": {},
   "outputs": [
    {
     "name": "stdout",
     "output_type": "stream",
     "text": [
      "288 rows with ungrouped claimed type.\n",
      "Remaining rows in valid dataframe: 15483\n"
     ]
    }
   ],
   "source": [
    "X,y = prep_data(data_df = data_df,\n",
    "                            col_list = firefly_cols,  \n",
    "                            min_redshift = 0, \n",
    "                            max_redshift = 10,\n",
    "                            subsample = 'Ia',\n",
    "                            oneall = 'II P')\n",
    "X_train, X_test, y_train, y_test = split_train_test(X, y)\n"
   ]
  },
  {
   "cell_type": "markdown",
   "metadata": {},
   "source": [
    "## Try other classifiers"
   ]
  },
  {
   "cell_type": "markdown",
   "metadata": {},
   "source": [
    "### Logistic Regression"
   ]
  },
  {
   "cell_type": "code",
   "execution_count": 362,
   "metadata": {},
   "outputs": [
    {
     "name": "stdout",
     "output_type": "stream",
     "text": [
      "             precision    recall  f1-score   support\n",
      "\n",
      "          0       0.63      0.70      0.67       274\n",
      "          3       0.59      0.51      0.55       226\n",
      "\n",
      "avg / total       0.61      0.62      0.61       500\n",
      "\n"
     ]
    },
    {
     "name": "stderr",
     "output_type": "stream",
     "text": [
      "/Users/marina/anaconda3/lib/python3.6/site-packages/sklearn/utils/validation.py:578: DataConversionWarning: A column-vector y was passed when a 1d array was expected. Please change the shape of y to (n_samples, ), for example using ravel().\n",
      "  y = column_or_1d(y, warn=True)\n"
     ]
    }
   ],
   "source": [
    "from sklearn.linear_model import LogisticRegression\n",
    "clf = LogisticRegression(random_state=0, solver='lbfgs',\n",
    "                          multi_class='multinomial').fit(X_train, y_train)\n",
    "predictions = clf.predict(X_test)\n",
    "clf.score(X_test, y_test)\n",
    "print(classification_report(y_test, predictions))"
   ]
  },
  {
   "cell_type": "markdown",
   "metadata": {},
   "source": [
    "### SVM"
   ]
  },
  {
   "cell_type": "code",
   "execution_count": null,
   "metadata": {},
   "outputs": [
    {
     "name": "stderr",
     "output_type": "stream",
     "text": [
      "/Users/marina/anaconda3/lib/python3.6/site-packages/sklearn/utils/validation.py:578: DataConversionWarning: A column-vector y was passed when a 1d array was expected. Please change the shape of y to (n_samples, ), for example using ravel().\n",
      "  y = column_or_1d(y, warn=True)\n"
     ]
    }
   ],
   "source": [
    "from sklearn import svm\n",
    "clf = svm.SVC(kernel='linear', class_weight='balanced').fit(X_train, y_train)\n",
    "predictions = clf.predict(X_test)\n",
    "clf.score(X_test, y_test)\n",
    "print(classification_report(y_test, predictions))"
   ]
  },
  {
   "cell_type": "markdown",
   "metadata": {},
   "source": [
    "Precision Improver -- Attempt to improve precision by upping the probability necessary to classify something as a particular class. Adds Other class."
   ]
  },
  {
   "cell_type": "code",
   "execution_count": null,
   "metadata": {},
   "outputs": [],
   "source": [
    "from sklearn.neural_network import MLPClassifier\n",
    "mlpclf = MLPClassifier(solver='lbfgs', alpha=1e-5, hidden_layer_sizes=(5, 2), random_state=1)\n",
    "mlpclf.fit(X_train, y_train)     "
   ]
  },
  {
   "cell_type": "code",
   "execution_count": null,
   "metadata": {},
   "outputs": [],
   "source": [
    "print(classification_report(y_test, mlpclf.predict(X_test)))"
   ]
  },
  {
   "cell_type": "code",
   "execution_count": null,
   "metadata": {},
   "outputs": [],
   "source": []
  },
  {
   "cell_type": "code",
   "execution_count": 323,
   "metadata": {},
   "outputs": [],
   "source": [
    "col_sets = [[\"NED Mass\", ned_mass_cols],\n",
    "            [\"NED SDSS\", ned_sdss_cols],\n",
    "            [\"NED Galex\", ned_galex_cols],\n",
    "#             [\"NED IRAS\", ned_iras_cols],\n",
    "#             [\"All NED\", all_ned_cols],\n",
    "#             [\"HyperLEDA\", hyperleda],\n",
    "            [\"ALLWISE\", allwise],\n",
    "            [\"Firefly\", firefly_cols],\n",
    "            [\"MPA JHU\", mpa_cols],\n",
    "            [\"Galaxy Zoo\", zoo_cols],\n",
    "            [\"GSWLC\", gswlc],\n",
    "            [\"WISC PCA\", wiscpca],\n",
    "            [\"NSA\", nsa],\n",
    "            [\"SCOS\", scos],\n",
    "            [\"PS1\", ps1]\n",
    "            ] "
   ]
  },
  {
   "cell_type": "code",
   "execution_count": 313,
   "metadata": {},
   "outputs": [],
   "source": [
    "def run_over_all_redshifts(sel_cols, data_df, f_list):\n",
    "    rs_mins = [0]\n",
    "    rows = []\n",
    "    for rs_min in rs_mins:\n",
    "        rs_max = rs_min + 1\n",
    "        clf, X_train, X_test, y_test, predictions = run_analysis(data_df = data_df,\n",
    "                            col_list = sel_cols,  \n",
    "                            min_redshift = rs_min, \n",
    "                            max_redshift = rs_max,\n",
    "                            subsample = False,\n",
    "                            oneall = 'Ia')\n",
    "\n",
    "        types = list(range(1,14)) # list types to return, 1 to 13\n",
    "        recalls = list(recall_score(y_test, predictions, labels = types, average = None)) \n",
    "        ps = list(precision_score(y_test, predictions, labels = types, average = None)) \n",
    "        f1 = list(f1_score(y_test, predictions, labels = types, average = None))\n",
    "\n",
    "        for idx, val in enumerate(clf.classes_):\n",
    "            #idx - index in array, and corresponding index in recalls\n",
    "            # val - class number \n",
    "            # Want to save performance of Ia and Other (class num 2 and 0)\n",
    "            if val == 2: # Ia class\n",
    "                class_2_recall = recalls[idx]\n",
    "                class_2_ps = ps[idx] \n",
    "                class_2_f1 = f1[idx]\n",
    "            if val == 0: # Other class\n",
    "                class_3_recall = recalls[idx]\n",
    "                class_3_ps = ps[idx]\n",
    "                class_3_f1 = f1[idx]\n",
    "        row = [f_list, rs_min, rs_max] + [class_2_recall, class_3_recall, class_2_ps, class_3_ps, class_2_f1, class_3_f1]\n",
    "        rows.append(row)\n",
    "        \n",
    "    return rows\n"
   ]
  },
  {
   "cell_type": "code",
   "execution_count": 324,
   "metadata": {},
   "outputs": [
    {
     "name": "stdout",
     "output_type": "stream",
     "text": [
      "NED Mass\n",
      "288 rows with ungrouped claimed type.\n",
      "Remaining rows in valid dataframe: 15483\n",
      "Rows run through classifier in training data: 4825\n",
      "             precision    recall  f1-score   support\n",
      "\n",
      "          0       0.41      0.52      0.46       512\n",
      "          2       0.74      0.64      0.69      1081\n",
      "\n",
      "avg / total       0.63      0.61      0.62      1593\n",
      "\n",
      "NED SDSS\n"
     ]
    },
    {
     "name": "stderr",
     "output_type": "stream",
     "text": [
      "/Users/marina/anaconda3/lib/python3.6/site-packages/ipykernel_launcher.py:3: DataConversionWarning: A column-vector y was passed when a 1d array was expected. Please change the shape of y to (n_samples,), for example using ravel().\n",
      "  This is separate from the ipykernel package so we can avoid doing imports until\n",
      "/Users/marina/anaconda3/lib/python3.6/site-packages/sklearn/metrics/classification.py:1137: UndefinedMetricWarning: Recall is ill-defined and being set to 0.0 in labels with no true samples.\n",
      "  'recall', 'true', average, warn_for)\n",
      "/Users/marina/anaconda3/lib/python3.6/site-packages/sklearn/metrics/classification.py:1135: UndefinedMetricWarning: Precision is ill-defined and being set to 0.0 in labels with no predicted samples.\n",
      "  'precision', 'predicted', average, warn_for)\n",
      "/Users/marina/anaconda3/lib/python3.6/site-packages/sklearn/metrics/classification.py:1135: UndefinedMetricWarning: F-score is ill-defined and being set to 0.0 in labels with no predicted samples.\n",
      "  'precision', 'predicted', average, warn_for)\n",
      "/Users/marina/anaconda3/lib/python3.6/site-packages/sklearn/metrics/classification.py:1137: UndefinedMetricWarning: F-score is ill-defined and being set to 0.0 in labels with no true samples.\n",
      "  'recall', 'true', average, warn_for)\n"
     ]
    },
    {
     "name": "stdout",
     "output_type": "stream",
     "text": [
      "288 rows with ungrouped claimed type.\n",
      "Remaining rows in valid dataframe: 15483\n",
      "Rows run through classifier in training data: 5080\n",
      "             precision    recall  f1-score   support\n",
      "\n",
      "          0       0.39      0.53      0.45       391\n",
      "          2       0.84      0.75      0.79      1286\n",
      "\n",
      "avg / total       0.74      0.70      0.71      1677\n",
      "\n",
      "NED Galex\n"
     ]
    },
    {
     "name": "stderr",
     "output_type": "stream",
     "text": [
      "/Users/marina/anaconda3/lib/python3.6/site-packages/ipykernel_launcher.py:3: DataConversionWarning: A column-vector y was passed when a 1d array was expected. Please change the shape of y to (n_samples,), for example using ravel().\n",
      "  This is separate from the ipykernel package so we can avoid doing imports until\n",
      "/Users/marina/anaconda3/lib/python3.6/site-packages/sklearn/metrics/classification.py:1137: UndefinedMetricWarning: Recall is ill-defined and being set to 0.0 in labels with no true samples.\n",
      "  'recall', 'true', average, warn_for)\n",
      "/Users/marina/anaconda3/lib/python3.6/site-packages/sklearn/metrics/classification.py:1135: UndefinedMetricWarning: Precision is ill-defined and being set to 0.0 in labels with no predicted samples.\n",
      "  'precision', 'predicted', average, warn_for)\n",
      "/Users/marina/anaconda3/lib/python3.6/site-packages/sklearn/metrics/classification.py:1135: UndefinedMetricWarning: F-score is ill-defined and being set to 0.0 in labels with no predicted samples.\n",
      "  'precision', 'predicted', average, warn_for)\n",
      "/Users/marina/anaconda3/lib/python3.6/site-packages/sklearn/metrics/classification.py:1137: UndefinedMetricWarning: F-score is ill-defined and being set to 0.0 in labels with no true samples.\n",
      "  'recall', 'true', average, warn_for)\n"
     ]
    },
    {
     "name": "stdout",
     "output_type": "stream",
     "text": [
      "288 rows with ungrouped claimed type.\n",
      "Remaining rows in valid dataframe: 15483\n",
      "Rows run through classifier in training data: 5190\n",
      "             precision    recall  f1-score   support\n",
      "\n",
      "          0       0.43      0.50      0.46       517\n",
      "          2       0.77      0.71      0.74      1196\n",
      "\n",
      "avg / total       0.67      0.65      0.66      1713\n",
      "\n",
      "ALLWISE\n"
     ]
    },
    {
     "name": "stderr",
     "output_type": "stream",
     "text": [
      "/Users/marina/anaconda3/lib/python3.6/site-packages/ipykernel_launcher.py:3: DataConversionWarning: A column-vector y was passed when a 1d array was expected. Please change the shape of y to (n_samples,), for example using ravel().\n",
      "  This is separate from the ipykernel package so we can avoid doing imports until\n",
      "/Users/marina/anaconda3/lib/python3.6/site-packages/sklearn/metrics/classification.py:1137: UndefinedMetricWarning: Recall is ill-defined and being set to 0.0 in labels with no true samples.\n",
      "  'recall', 'true', average, warn_for)\n",
      "/Users/marina/anaconda3/lib/python3.6/site-packages/sklearn/metrics/classification.py:1135: UndefinedMetricWarning: Precision is ill-defined and being set to 0.0 in labels with no predicted samples.\n",
      "  'precision', 'predicted', average, warn_for)\n",
      "/Users/marina/anaconda3/lib/python3.6/site-packages/sklearn/metrics/classification.py:1135: UndefinedMetricWarning: F-score is ill-defined and being set to 0.0 in labels with no predicted samples.\n",
      "  'precision', 'predicted', average, warn_for)\n",
      "/Users/marina/anaconda3/lib/python3.6/site-packages/sklearn/metrics/classification.py:1137: UndefinedMetricWarning: F-score is ill-defined and being set to 0.0 in labels with no true samples.\n",
      "  'recall', 'true', average, warn_for)\n"
     ]
    },
    {
     "name": "stdout",
     "output_type": "stream",
     "text": [
      "288 rows with ungrouped claimed type.\n",
      "Remaining rows in valid dataframe: 15483\n",
      "Rows run through classifier in training data: 3285\n",
      "             precision    recall  f1-score   support\n",
      "\n",
      "          0       0.47      0.59      0.52       401\n",
      "          2       0.72      0.61      0.66       684\n",
      "\n",
      "avg / total       0.63      0.60      0.61      1085\n",
      "\n",
      "Firefly\n"
     ]
    },
    {
     "name": "stderr",
     "output_type": "stream",
     "text": [
      "/Users/marina/anaconda3/lib/python3.6/site-packages/ipykernel_launcher.py:3: DataConversionWarning: A column-vector y was passed when a 1d array was expected. Please change the shape of y to (n_samples,), for example using ravel().\n",
      "  This is separate from the ipykernel package so we can avoid doing imports until\n",
      "/Users/marina/anaconda3/lib/python3.6/site-packages/sklearn/metrics/classification.py:1137: UndefinedMetricWarning: Recall is ill-defined and being set to 0.0 in labels with no true samples.\n",
      "  'recall', 'true', average, warn_for)\n",
      "/Users/marina/anaconda3/lib/python3.6/site-packages/sklearn/metrics/classification.py:1135: UndefinedMetricWarning: Precision is ill-defined and being set to 0.0 in labels with no predicted samples.\n",
      "  'precision', 'predicted', average, warn_for)\n",
      "/Users/marina/anaconda3/lib/python3.6/site-packages/sklearn/metrics/classification.py:1135: UndefinedMetricWarning: F-score is ill-defined and being set to 0.0 in labels with no predicted samples.\n",
      "  'precision', 'predicted', average, warn_for)\n",
      "/Users/marina/anaconda3/lib/python3.6/site-packages/sklearn/metrics/classification.py:1137: UndefinedMetricWarning: F-score is ill-defined and being set to 0.0 in labels with no true samples.\n",
      "  'recall', 'true', average, warn_for)\n"
     ]
    },
    {
     "name": "stdout",
     "output_type": "stream",
     "text": [
      "288 rows with ungrouped claimed type.\n",
      "Remaining rows in valid dataframe: 15483\n",
      "Rows run through classifier in training data: 2857\n",
      "             precision    recall  f1-score   support\n",
      "\n",
      "          0       0.47      0.56      0.51       279\n",
      "          2       0.80      0.73      0.76       664\n",
      "\n",
      "avg / total       0.70      0.68      0.69       943\n",
      "\n",
      "MPA JHU\n"
     ]
    },
    {
     "name": "stderr",
     "output_type": "stream",
     "text": [
      "/Users/marina/anaconda3/lib/python3.6/site-packages/ipykernel_launcher.py:3: DataConversionWarning: A column-vector y was passed when a 1d array was expected. Please change the shape of y to (n_samples,), for example using ravel().\n",
      "  This is separate from the ipykernel package so we can avoid doing imports until\n",
      "/Users/marina/anaconda3/lib/python3.6/site-packages/sklearn/metrics/classification.py:1137: UndefinedMetricWarning: Recall is ill-defined and being set to 0.0 in labels with no true samples.\n",
      "  'recall', 'true', average, warn_for)\n",
      "/Users/marina/anaconda3/lib/python3.6/site-packages/sklearn/metrics/classification.py:1135: UndefinedMetricWarning: Precision is ill-defined and being set to 0.0 in labels with no predicted samples.\n",
      "  'precision', 'predicted', average, warn_for)\n",
      "/Users/marina/anaconda3/lib/python3.6/site-packages/sklearn/metrics/classification.py:1135: UndefinedMetricWarning: F-score is ill-defined and being set to 0.0 in labels with no predicted samples.\n",
      "  'precision', 'predicted', average, warn_for)\n",
      "/Users/marina/anaconda3/lib/python3.6/site-packages/sklearn/metrics/classification.py:1137: UndefinedMetricWarning: F-score is ill-defined and being set to 0.0 in labels with no true samples.\n",
      "  'recall', 'true', average, warn_for)\n"
     ]
    },
    {
     "name": "stdout",
     "output_type": "stream",
     "text": [
      "288 rows with ungrouped claimed type.\n",
      "Remaining rows in valid dataframe: 15483\n",
      "Rows run through classifier in training data: 808\n"
     ]
    },
    {
     "name": "stderr",
     "output_type": "stream",
     "text": [
      "/Users/marina/anaconda3/lib/python3.6/site-packages/ipykernel_launcher.py:3: DataConversionWarning: A column-vector y was passed when a 1d array was expected. Please change the shape of y to (n_samples,), for example using ravel().\n",
      "  This is separate from the ipykernel package so we can avoid doing imports until\n",
      "/Users/marina/anaconda3/lib/python3.6/site-packages/sklearn/metrics/classification.py:1137: UndefinedMetricWarning: Recall is ill-defined and being set to 0.0 in labels with no true samples.\n",
      "  'recall', 'true', average, warn_for)\n",
      "/Users/marina/anaconda3/lib/python3.6/site-packages/sklearn/metrics/classification.py:1135: UndefinedMetricWarning: Precision is ill-defined and being set to 0.0 in labels with no predicted samples.\n",
      "  'precision', 'predicted', average, warn_for)\n",
      "/Users/marina/anaconda3/lib/python3.6/site-packages/sklearn/metrics/classification.py:1135: UndefinedMetricWarning: F-score is ill-defined and being set to 0.0 in labels with no predicted samples.\n",
      "  'precision', 'predicted', average, warn_for)\n",
      "/Users/marina/anaconda3/lib/python3.6/site-packages/sklearn/metrics/classification.py:1137: UndefinedMetricWarning: F-score is ill-defined and being set to 0.0 in labels with no true samples.\n",
      "  'recall', 'true', average, warn_for)\n"
     ]
    },
    {
     "name": "stdout",
     "output_type": "stream",
     "text": [
      "             precision    recall  f1-score   support\n",
      "\n",
      "          0       0.55      0.57      0.56       133\n",
      "          2       0.56      0.54      0.55       134\n",
      "\n",
      "avg / total       0.55      0.55      0.55       267\n",
      "\n",
      "Galaxy Zoo\n",
      "288 rows with ungrouped claimed type.\n",
      "Remaining rows in valid dataframe: 15483\n",
      "Rows run through classifier in training data: 1819\n",
      "             precision    recall  f1-score   support\n",
      "\n",
      "          0       0.57      0.61      0.58       228\n",
      "          2       0.75      0.72      0.73       373\n",
      "\n",
      "avg / total       0.68      0.67      0.68       601\n",
      "\n",
      "GSWLC\n"
     ]
    },
    {
     "name": "stderr",
     "output_type": "stream",
     "text": [
      "/Users/marina/anaconda3/lib/python3.6/site-packages/ipykernel_launcher.py:3: DataConversionWarning: A column-vector y was passed when a 1d array was expected. Please change the shape of y to (n_samples,), for example using ravel().\n",
      "  This is separate from the ipykernel package so we can avoid doing imports until\n",
      "/Users/marina/anaconda3/lib/python3.6/site-packages/sklearn/metrics/classification.py:1137: UndefinedMetricWarning: Recall is ill-defined and being set to 0.0 in labels with no true samples.\n",
      "  'recall', 'true', average, warn_for)\n",
      "/Users/marina/anaconda3/lib/python3.6/site-packages/sklearn/metrics/classification.py:1135: UndefinedMetricWarning: Precision is ill-defined and being set to 0.0 in labels with no predicted samples.\n",
      "  'precision', 'predicted', average, warn_for)\n",
      "/Users/marina/anaconda3/lib/python3.6/site-packages/sklearn/metrics/classification.py:1135: UndefinedMetricWarning: F-score is ill-defined and being set to 0.0 in labels with no predicted samples.\n",
      "  'precision', 'predicted', average, warn_for)\n",
      "/Users/marina/anaconda3/lib/python3.6/site-packages/sklearn/metrics/classification.py:1137: UndefinedMetricWarning: F-score is ill-defined and being set to 0.0 in labels with no true samples.\n",
      "  'recall', 'true', average, warn_for)\n"
     ]
    },
    {
     "name": "stdout",
     "output_type": "stream",
     "text": [
      "288 rows with ungrouped claimed type.\n",
      "Remaining rows in valid dataframe: 15483\n",
      "Rows run through classifier in training data: 1750\n",
      "             precision    recall  f1-score   support\n",
      "\n",
      "          0       0.48      0.51      0.49       187\n",
      "          2       0.76      0.73      0.74       391\n",
      "\n",
      "avg / total       0.67      0.66      0.66       578\n",
      "\n",
      "WISC PCA\n"
     ]
    },
    {
     "name": "stderr",
     "output_type": "stream",
     "text": [
      "/Users/marina/anaconda3/lib/python3.6/site-packages/ipykernel_launcher.py:3: DataConversionWarning: A column-vector y was passed when a 1d array was expected. Please change the shape of y to (n_samples,), for example using ravel().\n",
      "  This is separate from the ipykernel package so we can avoid doing imports until\n",
      "/Users/marina/anaconda3/lib/python3.6/site-packages/sklearn/metrics/classification.py:1137: UndefinedMetricWarning: Recall is ill-defined and being set to 0.0 in labels with no true samples.\n",
      "  'recall', 'true', average, warn_for)\n",
      "/Users/marina/anaconda3/lib/python3.6/site-packages/sklearn/metrics/classification.py:1135: UndefinedMetricWarning: Precision is ill-defined and being set to 0.0 in labels with no predicted samples.\n",
      "  'precision', 'predicted', average, warn_for)\n",
      "/Users/marina/anaconda3/lib/python3.6/site-packages/sklearn/metrics/classification.py:1135: UndefinedMetricWarning: F-score is ill-defined and being set to 0.0 in labels with no predicted samples.\n",
      "  'precision', 'predicted', average, warn_for)\n",
      "/Users/marina/anaconda3/lib/python3.6/site-packages/sklearn/metrics/classification.py:1137: UndefinedMetricWarning: F-score is ill-defined and being set to 0.0 in labels with no true samples.\n",
      "  'recall', 'true', average, warn_for)\n"
     ]
    },
    {
     "name": "stdout",
     "output_type": "stream",
     "text": [
      "288 rows with ungrouped claimed type.\n",
      "Remaining rows in valid dataframe: 15483\n",
      "Rows run through classifier in training data: 3646\n",
      "             precision    recall  f1-score   support\n",
      "\n",
      "          0       0.40      0.49      0.44       341\n",
      "          2       0.78      0.71      0.75       863\n",
      "\n",
      "avg / total       0.67      0.65      0.66      1204\n",
      "\n",
      "NSA\n"
     ]
    },
    {
     "name": "stderr",
     "output_type": "stream",
     "text": [
      "/Users/marina/anaconda3/lib/python3.6/site-packages/ipykernel_launcher.py:3: DataConversionWarning: A column-vector y was passed when a 1d array was expected. Please change the shape of y to (n_samples,), for example using ravel().\n",
      "  This is separate from the ipykernel package so we can avoid doing imports until\n",
      "/Users/marina/anaconda3/lib/python3.6/site-packages/sklearn/metrics/classification.py:1137: UndefinedMetricWarning: Recall is ill-defined and being set to 0.0 in labels with no true samples.\n",
      "  'recall', 'true', average, warn_for)\n",
      "/Users/marina/anaconda3/lib/python3.6/site-packages/sklearn/metrics/classification.py:1135: UndefinedMetricWarning: Precision is ill-defined and being set to 0.0 in labels with no predicted samples.\n",
      "  'precision', 'predicted', average, warn_for)\n",
      "/Users/marina/anaconda3/lib/python3.6/site-packages/sklearn/metrics/classification.py:1135: UndefinedMetricWarning: F-score is ill-defined and being set to 0.0 in labels with no predicted samples.\n",
      "  'precision', 'predicted', average, warn_for)\n",
      "/Users/marina/anaconda3/lib/python3.6/site-packages/sklearn/metrics/classification.py:1137: UndefinedMetricWarning: F-score is ill-defined and being set to 0.0 in labels with no true samples.\n",
      "  'recall', 'true', average, warn_for)\n"
     ]
    },
    {
     "name": "stdout",
     "output_type": "stream",
     "text": [
      "288 rows with ungrouped claimed type.\n",
      "Remaining rows in valid dataframe: 15483\n",
      "Rows run through classifier in training data: 2835\n",
      "             precision    recall  f1-score   support\n",
      "\n",
      "          0       0.62      0.56      0.59       372\n",
      "          2       0.73      0.78      0.75       564\n",
      "\n",
      "avg / total       0.69      0.69      0.69       936\n",
      "\n",
      "SCOS\n"
     ]
    },
    {
     "name": "stderr",
     "output_type": "stream",
     "text": [
      "/Users/marina/anaconda3/lib/python3.6/site-packages/ipykernel_launcher.py:3: DataConversionWarning: A column-vector y was passed when a 1d array was expected. Please change the shape of y to (n_samples,), for example using ravel().\n",
      "  This is separate from the ipykernel package so we can avoid doing imports until\n",
      "/Users/marina/anaconda3/lib/python3.6/site-packages/sklearn/metrics/classification.py:1137: UndefinedMetricWarning: Recall is ill-defined and being set to 0.0 in labels with no true samples.\n",
      "  'recall', 'true', average, warn_for)\n",
      "/Users/marina/anaconda3/lib/python3.6/site-packages/sklearn/metrics/classification.py:1135: UndefinedMetricWarning: Precision is ill-defined and being set to 0.0 in labels with no predicted samples.\n",
      "  'precision', 'predicted', average, warn_for)\n",
      "/Users/marina/anaconda3/lib/python3.6/site-packages/sklearn/metrics/classification.py:1135: UndefinedMetricWarning: F-score is ill-defined and being set to 0.0 in labels with no predicted samples.\n",
      "  'precision', 'predicted', average, warn_for)\n",
      "/Users/marina/anaconda3/lib/python3.6/site-packages/sklearn/metrics/classification.py:1137: UndefinedMetricWarning: F-score is ill-defined and being set to 0.0 in labels with no true samples.\n",
      "  'recall', 'true', average, warn_for)\n"
     ]
    },
    {
     "name": "stdout",
     "output_type": "stream",
     "text": [
      "288 rows with ungrouped claimed type.\n",
      "Remaining rows in valid dataframe: 15483\n",
      "Rows run through classifier in training data: 7238\n"
     ]
    },
    {
     "name": "stderr",
     "output_type": "stream",
     "text": [
      "/Users/marina/anaconda3/lib/python3.6/site-packages/ipykernel_launcher.py:3: DataConversionWarning: A column-vector y was passed when a 1d array was expected. Please change the shape of y to (n_samples,), for example using ravel().\n",
      "  This is separate from the ipykernel package so we can avoid doing imports until\n",
      "/Users/marina/anaconda3/lib/python3.6/site-packages/sklearn/metrics/classification.py:1137: UndefinedMetricWarning: Recall is ill-defined and being set to 0.0 in labels with no true samples.\n",
      "  'recall', 'true', average, warn_for)\n",
      "/Users/marina/anaconda3/lib/python3.6/site-packages/sklearn/metrics/classification.py:1135: UndefinedMetricWarning: Precision is ill-defined and being set to 0.0 in labels with no predicted samples.\n",
      "  'precision', 'predicted', average, warn_for)\n",
      "/Users/marina/anaconda3/lib/python3.6/site-packages/sklearn/metrics/classification.py:1135: UndefinedMetricWarning: F-score is ill-defined and being set to 0.0 in labels with no predicted samples.\n",
      "  'precision', 'predicted', average, warn_for)\n",
      "/Users/marina/anaconda3/lib/python3.6/site-packages/sklearn/metrics/classification.py:1137: UndefinedMetricWarning: F-score is ill-defined and being set to 0.0 in labels with no true samples.\n",
      "  'recall', 'true', average, warn_for)\n"
     ]
    },
    {
     "name": "stdout",
     "output_type": "stream",
     "text": [
      "             precision    recall  f1-score   support\n",
      "\n",
      "          0       0.45      0.51      0.48       682\n",
      "          2       0.79      0.75      0.77      1707\n",
      "\n",
      "avg / total       0.70      0.68      0.69      2389\n",
      "\n",
      "PS1\n",
      "288 rows with ungrouped claimed type.\n",
      "Remaining rows in valid dataframe: 15483\n",
      "Rows run through classifier in training data: 7179\n",
      "             precision    recall  f1-score   support\n",
      "\n",
      "          0       0.46      0.53      0.49       647\n",
      "          2       0.81      0.77      0.79      1723\n",
      "\n",
      "avg / total       0.72      0.70      0.71      2370\n",
      "\n"
     ]
    },
    {
     "name": "stderr",
     "output_type": "stream",
     "text": [
      "/Users/marina/anaconda3/lib/python3.6/site-packages/ipykernel_launcher.py:3: DataConversionWarning: A column-vector y was passed when a 1d array was expected. Please change the shape of y to (n_samples,), for example using ravel().\n",
      "  This is separate from the ipykernel package so we can avoid doing imports until\n",
      "/Users/marina/anaconda3/lib/python3.6/site-packages/sklearn/metrics/classification.py:1137: UndefinedMetricWarning: Recall is ill-defined and being set to 0.0 in labels with no true samples.\n",
      "  'recall', 'true', average, warn_for)\n",
      "/Users/marina/anaconda3/lib/python3.6/site-packages/sklearn/metrics/classification.py:1135: UndefinedMetricWarning: Precision is ill-defined and being set to 0.0 in labels with no predicted samples.\n",
      "  'precision', 'predicted', average, warn_for)\n",
      "/Users/marina/anaconda3/lib/python3.6/site-packages/sklearn/metrics/classification.py:1135: UndefinedMetricWarning: F-score is ill-defined and being set to 0.0 in labels with no predicted samples.\n",
      "  'precision', 'predicted', average, warn_for)\n",
      "/Users/marina/anaconda3/lib/python3.6/site-packages/sklearn/metrics/classification.py:1137: UndefinedMetricWarning: F-score is ill-defined and being set to 0.0 in labels with no true samples.\n",
      "  'recall', 'true', average, warn_for)\n"
     ]
    }
   ],
   "source": [
    "report = pd.DataFrame()\n",
    "for c_set in col_sets:\n",
    "    feature_list_name = c_set[0]\n",
    "    feature_list = c_set[1]\n",
    "    print(feature_list_name)\n",
    "    rows = run_over_all_redshifts(sel_cols = feature_list, data_df =  data_df.copy(), f_list = feature_list_name)\n",
    "    cur_df = pd.DataFrame(rows, columns = ['feature list','min redshift', 'max redshift'] +  ['Ia Recall',  'Other Recall', 'Ia Precision', 'Other Precision', 'Ia F1', 'Other F1'])\n",
    "    \n",
    "    report = pd.concat([report, cur_df])\n",
    "# report.round(decimals = 2).to_csv(\"../output/rfc_performance.csv\")\n"
   ]
  },
  {
   "cell_type": "code",
   "execution_count": 340,
   "metadata": {},
   "outputs": [],
   "source": [
    "report.to_csv(\"../output/IavsOther.csv\")"
   ]
  },
  {
   "cell_type": "code",
   "execution_count": 355,
   "metadata": {},
   "outputs": [
    {
     "data": {
      "text/html": [
       "<div>\n",
       "<style scoped>\n",
       "    .dataframe tbody tr th:only-of-type {\n",
       "        vertical-align: middle;\n",
       "    }\n",
       "\n",
       "    .dataframe tbody tr th {\n",
       "        vertical-align: top;\n",
       "    }\n",
       "\n",
       "    .dataframe thead th {\n",
       "        text-align: right;\n",
       "    }\n",
       "</style>\n",
       "<table border=\"1\" class=\"dataframe\">\n",
       "  <thead>\n",
       "    <tr style=\"text-align: right;\">\n",
       "      <th></th>\n",
       "      <th>feature list</th>\n",
       "      <th>min redshift</th>\n",
       "      <th>max redshift</th>\n",
       "      <th>Ia Recall</th>\n",
       "      <th>Other Recall</th>\n",
       "      <th>Ia Precision</th>\n",
       "      <th>Other Precision</th>\n",
       "      <th>Ia F1</th>\n",
       "      <th>Other F1</th>\n",
       "    </tr>\n",
       "  </thead>\n",
       "  <tbody>\n",
       "    <tr>\n",
       "      <th>0</th>\n",
       "      <td>NED Mass</td>\n",
       "      <td>0</td>\n",
       "      <td>1</td>\n",
       "      <td>0.644773</td>\n",
       "      <td>0.0</td>\n",
       "      <td>0.739915</td>\n",
       "      <td>0.0</td>\n",
       "      <td>0.689076</td>\n",
       "      <td>0.0</td>\n",
       "    </tr>\n",
       "    <tr>\n",
       "      <th>0</th>\n",
       "      <td>NED SDSS</td>\n",
       "      <td>0</td>\n",
       "      <td>1</td>\n",
       "      <td>0.749611</td>\n",
       "      <td>0.0</td>\n",
       "      <td>0.840453</td>\n",
       "      <td>0.0</td>\n",
       "      <td>0.792437</td>\n",
       "      <td>0.0</td>\n",
       "    </tr>\n",
       "    <tr>\n",
       "      <th>0</th>\n",
       "      <td>NED Galex</td>\n",
       "      <td>0</td>\n",
       "      <td>1</td>\n",
       "      <td>0.710702</td>\n",
       "      <td>0.0</td>\n",
       "      <td>0.768535</td>\n",
       "      <td>0.0</td>\n",
       "      <td>0.738488</td>\n",
       "      <td>0.0</td>\n",
       "    </tr>\n",
       "    <tr>\n",
       "      <th>0</th>\n",
       "      <td>ALLWISE</td>\n",
       "      <td>0</td>\n",
       "      <td>1</td>\n",
       "      <td>0.611111</td>\n",
       "      <td>0.0</td>\n",
       "      <td>0.718213</td>\n",
       "      <td>0.0</td>\n",
       "      <td>0.660348</td>\n",
       "      <td>0.0</td>\n",
       "    </tr>\n",
       "    <tr>\n",
       "      <th>0</th>\n",
       "      <td>Firefly</td>\n",
       "      <td>0</td>\n",
       "      <td>1</td>\n",
       "      <td>0.731928</td>\n",
       "      <td>0.0</td>\n",
       "      <td>0.796721</td>\n",
       "      <td>0.0</td>\n",
       "      <td>0.762951</td>\n",
       "      <td>0.0</td>\n",
       "    </tr>\n",
       "    <tr>\n",
       "      <th>0</th>\n",
       "      <td>MPA JHU</td>\n",
       "      <td>0</td>\n",
       "      <td>1</td>\n",
       "      <td>0.537313</td>\n",
       "      <td>0.0</td>\n",
       "      <td>0.558140</td>\n",
       "      <td>0.0</td>\n",
       "      <td>0.547529</td>\n",
       "      <td>0.0</td>\n",
       "    </tr>\n",
       "    <tr>\n",
       "      <th>0</th>\n",
       "      <td>Galaxy Zoo</td>\n",
       "      <td>0</td>\n",
       "      <td>1</td>\n",
       "      <td>0.715818</td>\n",
       "      <td>0.0</td>\n",
       "      <td>0.747899</td>\n",
       "      <td>0.0</td>\n",
       "      <td>0.731507</td>\n",
       "      <td>0.0</td>\n",
       "    </tr>\n",
       "    <tr>\n",
       "      <th>0</th>\n",
       "      <td>GSWLC</td>\n",
       "      <td>0</td>\n",
       "      <td>1</td>\n",
       "      <td>0.731458</td>\n",
       "      <td>0.0</td>\n",
       "      <td>0.758621</td>\n",
       "      <td>0.0</td>\n",
       "      <td>0.744792</td>\n",
       "      <td>0.0</td>\n",
       "    </tr>\n",
       "    <tr>\n",
       "      <th>0</th>\n",
       "      <td>WISC PCA</td>\n",
       "      <td>0</td>\n",
       "      <td>1</td>\n",
       "      <td>0.714948</td>\n",
       "      <td>0.0</td>\n",
       "      <td>0.780025</td>\n",
       "      <td>0.0</td>\n",
       "      <td>0.746070</td>\n",
       "      <td>0.0</td>\n",
       "    </tr>\n",
       "    <tr>\n",
       "      <th>0</th>\n",
       "      <td>NSA</td>\n",
       "      <td>0</td>\n",
       "      <td>1</td>\n",
       "      <td>0.776596</td>\n",
       "      <td>0.0</td>\n",
       "      <td>0.727575</td>\n",
       "      <td>0.0</td>\n",
       "      <td>0.751286</td>\n",
       "      <td>0.0</td>\n",
       "    </tr>\n",
       "    <tr>\n",
       "      <th>0</th>\n",
       "      <td>SCOS</td>\n",
       "      <td>0</td>\n",
       "      <td>1</td>\n",
       "      <td>0.752783</td>\n",
       "      <td>0.0</td>\n",
       "      <td>0.792721</td>\n",
       "      <td>0.0</td>\n",
       "      <td>0.772236</td>\n",
       "      <td>0.0</td>\n",
       "    </tr>\n",
       "    <tr>\n",
       "      <th>0</th>\n",
       "      <td>PS1</td>\n",
       "      <td>0</td>\n",
       "      <td>1</td>\n",
       "      <td>0.767847</td>\n",
       "      <td>0.0</td>\n",
       "      <td>0.812654</td>\n",
       "      <td>0.0</td>\n",
       "      <td>0.789615</td>\n",
       "      <td>0.0</td>\n",
       "    </tr>\n",
       "  </tbody>\n",
       "</table>\n",
       "</div>"
      ],
      "text/plain": [
       "  feature list  min redshift  max redshift  Ia Recall  Other Recall  \\\n",
       "0     NED Mass             0             1   0.644773           0.0   \n",
       "0     NED SDSS             0             1   0.749611           0.0   \n",
       "0    NED Galex             0             1   0.710702           0.0   \n",
       "0      ALLWISE             0             1   0.611111           0.0   \n",
       "0      Firefly             0             1   0.731928           0.0   \n",
       "0      MPA JHU             0             1   0.537313           0.0   \n",
       "0   Galaxy Zoo             0             1   0.715818           0.0   \n",
       "0        GSWLC             0             1   0.731458           0.0   \n",
       "0     WISC PCA             0             1   0.714948           0.0   \n",
       "0          NSA             0             1   0.776596           0.0   \n",
       "0         SCOS             0             1   0.752783           0.0   \n",
       "0          PS1             0             1   0.767847           0.0   \n",
       "\n",
       "   Ia Precision  Other Precision     Ia F1  Other F1  \n",
       "0      0.739915              0.0  0.689076       0.0  \n",
       "0      0.840453              0.0  0.792437       0.0  \n",
       "0      0.768535              0.0  0.738488       0.0  \n",
       "0      0.718213              0.0  0.660348       0.0  \n",
       "0      0.796721              0.0  0.762951       0.0  \n",
       "0      0.558140              0.0  0.547529       0.0  \n",
       "0      0.747899              0.0  0.731507       0.0  \n",
       "0      0.758621              0.0  0.744792       0.0  \n",
       "0      0.780025              0.0  0.746070       0.0  \n",
       "0      0.727575              0.0  0.751286       0.0  \n",
       "0      0.792721              0.0  0.772236       0.0  \n",
       "0      0.812654              0.0  0.789615       0.0  "
      ]
     },
     "execution_count": 355,
     "metadata": {},
     "output_type": "execute_result"
    }
   ],
   "source": [
    "# report[['feature list', 'Ia Recall', 'Other Recall']]\n",
    "# report.hist(['feature list', 'Ia Recall', 'Other Recall'], by = 'feature list')\n",
    "# report.hist(column = 'Ia Recall')\n",
    "report"
   ]
  },
  {
   "cell_type": "markdown",
   "metadata": {},
   "source": [
    "## Extra/Old Code"
   ]
  },
  {
   "cell_type": "code",
   "execution_count": null,
   "metadata": {},
   "outputs": [],
   "source": []
  },
  {
   "cell_type": "markdown",
   "metadata": {},
   "source": [
    "### Data Profiling "
   ]
  },
  {
   "cell_type": "markdown",
   "metadata": {},
   "source": [
    " Feature Distribution by Claimed Type"
   ]
  },
  {
   "cell_type": "code",
   "execution_count": null,
   "metadata": {},
   "outputs": [],
   "source": [
    "# Get distribution of features across claimed type group\n",
    "type_counts = pd.crosstab(df_rs_band['claimedtype_group'], \n",
    "                                    columns = [df_rs_band['masses'],\n",
    "                                              df_rs_band['velocity'],\n",
    "                                              df_rs_band['SDSS_SpecMatched'],\n",
    "                                              df_rs_band['SDSS_FiberID'],\n",
    "                                              df_rs_band['SDSS_MJD'],\n",
    "                                              df_rs_band['SDSS_Plate'],\n",
    "                                              df_rs_band['MPAJHU_BPTClass'],\n",
    "                                              df_rs_band['WiscPCA_src'],\n",
    "                                              df_rs_band['HyperLEDA_type'],\n",
    "                                              df_rs_band['HyperLEDA_bar'],\n",
    "                                              df_rs_band['HyperLEDA_ring'],\n",
    "                                               df_rs_band['HyperLEDA_multiple'],\n",
    "                                               df_rs_band['HyperLEDA_compactness'],\n",
    "                                               df_rs_band['HyperLEDA_agnclass']\n",
    "                                                ])\n",
    "type_counts.to_csv(\"feature_counts.csv\")"
   ]
  },
  {
   "cell_type": "markdown",
   "metadata": {},
   "source": [
    "Table of the number of claimed types within each range of redshifts."
   ]
  },
  {
   "cell_type": "code",
   "execution_count": null,
   "metadata": {},
   "outputs": [],
   "source": [
    "# Group redshifts into bins of .5\n",
    "bin_size = 0.1\n",
    "rsmin = 0\n",
    "rsmax = 1\n",
    "range_bins = list(np.arange(int(rsmin)-1, int(rsmax) + 2, bin_size))\n",
    "# Create aggregate frame based on redshift and claimedtype_group\n",
    "\n",
    "grouped_df = group_cts(data_df)\n",
    "df_agg = grouped_df.copy()\n",
    "df_agg = df_agg[(df_agg.redshift != 'nan') & (df_agg.redshift.str.contains(',') == False)]\n",
    "df_agg['redshift'] = df_agg['redshift'].apply(pd.to_numeric)\n",
    "\n",
    "df_agg = df_agg[['claimedtype_group','redshift']]\n",
    "# Split counts into bins of redshift, of bin_size\n",
    "df_agg['rs_range'] = pd.cut(df_agg['redshift'], bins = range_bins)\n",
    "\n",
    "# Flip axis so each bin is a column\n",
    "grouping = df_agg.groupby(['claimedtype_group',\n",
    "                           'rs_range']).size().reset_index(name = 'counts')\n",
    "g = pd.DataFrame(grouping)\n",
    "col_headers = [df_agg.rs_range.unique()]\n",
    "ct_range = g.pivot(index = 'claimedtype_group', columns = 'rs_range')['counts']\n",
    "\n",
    "# Save claimedtype ranges to CSV\n",
    "# ct_range.to_csv(output_dir + \"ct_range_bin_\" + str(bin_size) + \".csv\")"
   ]
  },
  {
   "cell_type": "code",
   "execution_count": null,
   "metadata": {},
   "outputs": [],
   "source": [
    "ct_range"
   ]
  }
 ],
 "metadata": {
  "kernelspec": {
   "display_name": "Python 3",
   "language": "python",
   "name": "python3"
  },
  "language_info": {
   "codemirror_mode": {
    "name": "ipython",
    "version": 3
   },
   "file_extension": ".py",
   "mimetype": "text/x-python",
   "name": "python",
   "nbconvert_exporter": "python",
   "pygments_lexer": "ipython3",
   "version": "3.6.5"
  }
 },
 "nbformat": 4,
 "nbformat_minor": 2
}
