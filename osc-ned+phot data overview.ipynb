{
 "cells": [
  {
   "cell_type": "code",
   "execution_count": 26,
   "metadata": {},
   "outputs": [
    {
     "name": "stdout",
     "output_type": "stream",
     "text": [
      "45\n",
      "15550\n"
     ]
    }
   ],
   "source": [
    "from astropy.io import fits\n",
    "hdulist = fits.open('osc-ned+phot.fits')\n",
    "cols = hdulist[1].columns\n",
    "print (len(cols.names))\n",
    "print (len(hdulist[1].data))"
   ]
  },
  {
   "cell_type": "code",
   "execution_count": 3,
   "metadata": {},
   "outputs": [
    {
     "name": "stdout",
     "output_type": "stream",
     "text": [
      "ColDefs(\n",
      "    name = 'Name'; format = '64A'\n",
      "    name = 'Disc. Date'; format = '64A'\n",
      "    name = 'mmax'; format = 'D'\n",
      "    name = 'Host Name'; format = '64A'\n",
      "    name = 'R.A.'; format = '128A'\n",
      "    name = 'Dec.'; format = '128A'\n",
      "    name = 'z'; format = '64A'\n",
      "    name = 'Type'; format = '32A'\n",
      "    name = 'Phot.'; format = 'D'\n",
      "    name = 'Spec.'; format = 'D'\n",
      "    name = 'Radio'; format = 'D'\n",
      "    name = 'X-ray'; format = 'D'\n",
      "    name = 'ned_searched'; format = 'D'\n",
      "    name = 'ned_identifier'; format = '36A'\n",
      "    name = '2MASS_Ks'; format = 'D'\n",
      "    name = '2MASS_Ks_Err'; format = 'D'\n",
      "    name = '2MASS_J'; format = 'D'\n",
      "    name = '2MASS_J_Err'; format = 'D'\n",
      "    name = '2NASS_H'; format = 'D'\n",
      "    name = '2NASS_H_Err'; format = 'D'\n",
      "    name = 'SDSS_u'; format = 'D'\n",
      "    name = 'SDSS_u_Err'; format = 'D'\n",
      "    name = 'SDSS_g'; format = 'D'\n",
      "    name = 'SDSS_g_Err'; format = 'D'\n",
      "    name = 'SDSS_r'; format = 'D'\n",
      "    name = 'SDSS_r_Err'; format = 'D'\n",
      "    name = 'SDSS_i'; format = 'D'\n",
      "    name = 'SDSS_i_Err'; format = 'D'\n",
      "    name = 'SDSS_z'; format = 'D'\n",
      "    name = 'SDSS_z_Err'; format = 'D'\n",
      "    name = 'GALEX_NUV'; format = 'D'\n",
      "    name = 'GALEX_NUV_Err'; format = 'D'\n",
      "    name = 'GALEX_FUV'; format = 'D'\n",
      "    name = 'GALEX_FUV_Err'; format = 'D'\n",
      "    name = 'IRAS_12m'; format = 'D'\n",
      "    name = 'IRAS_12m_Err'; format = 'D'\n",
      "    name = 'IRAS_25m'; format = 'D'\n",
      "    name = 'IRAS_25m_Err'; format = 'D'\n",
      "    name = 'IRAS_60m'; format = 'D'\n",
      "    name = 'IRAS_60m_Err'; format = 'D'\n",
      "    name = 'IRAS_100m'; format = 'D'\n",
      "    name = 'IRAS_100m_Err'; format = 'D'\n",
      "    name = 'Host_RA'; format = 'D'\n",
      "    name = 'Host_Dec'; format = 'D'\n",
      "    name = 'Host_z'; format = 'D'\n",
      ")\n"
     ]
    }
   ],
   "source": [
    "print cols"
   ]
  },
  {
   "cell_type": "code",
   "execution_count": 16,
   "metadata": {},
   "outputs": [
    {
     "name": "stdout",
     "output_type": "stream",
     "text": [
      "{'nIa': 21, 'IIb/Ib/Ic (Ca rich)': 1, 'Candidate': 1598, 'Ia-02cx': 25, 'BL': 1, 'Ic/Ic-bl': 1, 'IIn Pec': 1, 'II/Ib/c': 1, 'II L?': 1, 'not': 1, 'II P Pec': 1, 'Minor Planet': 1, 'Ib/Ic (Ca rich)': 1, 'IIb': 85, 'Blazer': 4, 'IIn': 111, 'II Pec': 6, 'Pec': 4, 'Ic/Ic-BL': 1, 'Star': 1, 'II-p': 1, 'Ib (Ca rich)': 1, 'LBV': 1, 'BL-Ic': 1, 'Ic BL': 17, 'nan': 7945, 'Ib/c-BL': 1, 'SLSN': 3, 'I': 61, 'Ia CSM': 1, 'Ib/IIb': 3, 'Ib/c?': 5, 'Not': 1, 'Ia*': 1, 'SLSN-II?': 1, 'LBV to IIn': 3, 'II?': 2, 'blue': 2, 'Ia Pec': 58, 'II Pec?': 2, 'Ibn': 10, 'Ib Pec': 5, 'CC': 14, 'II/IIb': 1, 'II L': 5, 'II P?': 1, 'IIn-pec/LBV': 1, 'Ib-n/IIb-n': 1, 'Iax[02cx-like]': 1, 'II': 2036, 'Ia/Ic': 3, 'Ic Pec': 4, 'Ic-lum?': 1, 'Ic?': 2, 'II/LBV': 1, 'II P': 228, 'Candidate?': 1, 'Ia/c': 3, 'CV': 2, 'Ia-HV': 2, 'Ia-91bg': 21, 'IIb?': 2, 'I?': 3, 'LRV?': 1, 'Ib/c': 56, 'Ia?': 19, 'Ii': 1, 'Ia-91T': 33, 'CN': 1, 'IIn?': 2, 'Radio': 2, 'LCH': 1, 'SLSN-I': 1, 'LGRB': 173, 'Ia': 2589, 'Ic': 202, 'Ib': 143, 'Ia Pec?': 2}\n"
     ]
    }
   ],
   "source": [
    "#show SN types with their numbers\n",
    "\n",
    "sn_type_dict = {}\n",
    "\n",
    "for i in range(len(hdulist[1].data)):\n",
    "    if hdulist[1].data[i][7] in sn_type_dict:\n",
    "        sn_type_dict[hdulist[1].data[i][7]] += 1\n",
    "    else:\n",
    "        sn_type_dict[hdulist[1].data[i][7]] = 1\n",
    "        \n",
    "print sn_type_dict"
   ]
  },
  {
   "cell_type": "code",
   "execution_count": 27,
   "metadata": {},
   "outputs": [
    {
     "name": "stdout",
     "output_type": "stream",
     "text": [
      "{'2NASS_H_Err': nan, 'SDSS_g_Err': nan, 'IRAS_60m_Err': nan, 'IRAS_100m_Err': nan, 'IRAS_12m_Err': nan, 'Disc. Date': '2016/07/19', 'SDSS_i_Err': nan, 'Type': 'nan', 'SDSS_z': nan, 'Host_Dec': 21.37331, 'Spec.': nan, 'mmax': 14.76, 'Dec.': '+21:22:22.70,+21:22:22.73,+21:22:22.8,+21:22:22.6', 'ned_searched': 1.0, 'Phot.': 269.0, 'GALEX_FUV_Err': nan, 'R.A.': '04:05:15.40,04:05:15.423,04:05:15.432,04:05:15.42,04:05:15.408', '2MASS_J_Err': 0.049000000000000002, 'GALEX_NUV_Err': nan, '2MASS_J': 12.710000000000001, 'IRAS_25m_Err': nan, 'SDSS_u_Err': nan, 'IRAS_12m': nan, 'Host_z': 0.0298, 'IRAS_25m': nan, 'Name': 'Gaia16avv', 'SDSS_g': nan, 'SDSS_i': nan, 'IRAS_60m': nan, 'GALEX_NUV': nan, 'SDSS_r': nan, 'SDSS_u': nan, 'IRAS_100m': nan, 'SDSS_r_Err': nan, 'ned_identifier': '021333aedec146568c5b1a6869c15db0', 'X-ray': nan, 'SDSS_z_Err': nan, '2MASS_Ks_Err': 0.048000000000000001, 'GALEX_FUV': nan, '2MASS_Ks': 11.236000000000001, 'Radio': nan, '2NASS_H': nan, 'Host_RA': 61.315750000000001, 'z': 'nan', 'Host Name': '2MASX J04051578+2122240'}\n",
      "\n",
      "\n",
      "{'2NASS_H_Err': nan, 'SDSS_g_Err': 0.0080000000000000002, 'IRAS_60m_Err': nan, 'IRAS_100m_Err': nan, 'IRAS_12m_Err': nan, 'Disc. Date': '2015/03/20', 'SDSS_i_Err': 0.0070000000000000001, 'Type': 'nan', 'SDSS_z': 16.748999999999999, 'Host_Dec': 41.858110000000003, 'Spec.': nan, 'mmax': 16.579999999999998, 'Dec.': '+41:51:29.3,+41:51:29.52', 'ned_searched': 1.0, 'Phot.': 116.0, 'GALEX_FUV_Err': nan, 'R.A.': '09:50:38.23,09:50:38.16', '2MASS_J_Err': 0.18099999999999999, 'GALEX_NUV_Err': nan, '2MASS_J': 15.478999999999999, 'IRAS_25m_Err': nan, 'SDSS_u_Err': 0.071999999999999995, 'IRAS_12m': nan, 'Host_z': 0.116245, 'IRAS_25m': nan, 'Name': 'Gaia15aea', 'SDSS_g': 18.387, 'SDSS_i': 17.052, 'IRAS_60m': nan, 'GALEX_NUV': nan, 'SDSS_r': 17.439, 'SDSS_u': 20.343, 'IRAS_100m': nan, 'SDSS_r_Err': 0.0060000000000000001, 'ned_identifier': 'bdbb3689c85e429ca622e7cd69ab162e', 'X-ray': nan, 'SDSS_z_Err': 0.014, '2MASS_Ks_Err': 0.16600000000000001, 'GALEX_FUV': nan, '2MASS_Ks': 14.380000000000001, 'Radio': nan, '2NASS_H': nan, 'Host_RA': 147.65924999999999, 'z': 'nan', 'Host Name': 'nan'}\n",
      "\n",
      "\n",
      "{'2NASS_H_Err': nan, 'SDSS_g_Err': nan, 'IRAS_60m_Err': nan, 'IRAS_100m_Err': nan, 'IRAS_12m_Err': nan, 'Disc. Date': '2014/10/19', 'SDSS_i_Err': nan, 'Type': 'nan', 'SDSS_z': nan, 'Host_Dec': -72.628749999999997, 'Spec.': nan, 'mmax': 18.469999999999999, 'Dec.': '-72:37:46.5', 'ned_searched': 1.0, 'Phot.': 94.0, 'GALEX_FUV_Err': 0.217057, 'R.A.': '00:14:57.01', '2MASS_J_Err': 0.17000000000000001, 'GALEX_NUV_Err': 0.110717, '2MASS_J': 15.007, 'IRAS_25m_Err': nan, 'SDSS_u_Err': nan, 'IRAS_12m': nan, 'Host_z': nan, 'IRAS_25m': nan, 'Name': 'OGLE-2014-SN-109', 'SDSS_g': nan, 'SDSS_i': nan, 'IRAS_60m': nan, 'GALEX_NUV': 20.157599999999999, 'SDSS_r': nan, 'SDSS_u': nan, 'IRAS_100m': nan, 'SDSS_r_Err': nan, 'ned_identifier': 'c61c709341b74851a690218865509de5', 'X-ray': nan, 'SDSS_z_Err': nan, '2MASS_Ks_Err': 0.17999999999999999, 'GALEX_FUV': 20.430199999999999, '2MASS_Ks': 14.202999999999999, 'Radio': nan, '2NASS_H': nan, 'Host_RA': 3.7377099999999999, 'z': 'nan', 'Host Name': 'nan'}\n",
      "\n",
      "\n",
      "{'2NASS_H_Err': nan, 'SDSS_g_Err': nan, 'IRAS_60m_Err': nan, 'IRAS_100m_Err': nan, 'IRAS_12m_Err': nan, 'Disc. Date': '2012/12/02', 'SDSS_i_Err': nan, 'Type': 'nan', 'SDSS_z': nan, 'Host_Dec': -76.971419999999995, 'Spec.': nan, 'mmax': 18.43, 'Dec.': '-76:58:17.06', 'ned_searched': 1.0, 'Phot.': 89.0, 'GALEX_FUV_Err': 0.41016799999999998, 'R.A.': '23:15:46.423', '2MASS_J_Err': 0.20499999999999999, 'GALEX_NUV_Err': 0.146978, '2MASS_J': 15.112, 'IRAS_25m_Err': nan, 'SDSS_u_Err': nan, 'IRAS_12m': nan, 'Host_z': nan, 'IRAS_25m': nan, 'Name': 'OGLE-2013-SN-003', 'SDSS_g': nan, 'SDSS_i': nan, 'IRAS_60m': nan, 'GALEX_NUV': 21.1312, 'SDSS_r': nan, 'SDSS_u': nan, 'IRAS_100m': nan, 'SDSS_r_Err': nan, 'ned_identifier': '887807247d0548338f0b0db6a5219152', 'X-ray': nan, 'SDSS_z_Err': nan, '2MASS_Ks_Err': 0.13300000000000001, 'GALEX_FUV': 21.972799999999999, '2MASS_Ks': 13.835000000000001, 'Radio': nan, '2NASS_H': nan, 'Host_RA': 348.94337999999999, 'z': 'nan', 'Host Name': 'nan'}\n",
      "\n",
      "\n",
      "{'2NASS_H_Err': nan, 'SDSS_g_Err': nan, 'IRAS_60m_Err': nan, 'IRAS_100m_Err': nan, 'IRAS_12m_Err': nan, 'Disc. Date': '2014/12/18', 'SDSS_i_Err': nan, 'Type': 'nan', 'SDSS_z': nan, 'Host_Dec': 3.3290600000000001, 'Spec.': nan, 'mmax': 18.59, 'Dec.': '+03:19:44.9', 'ned_searched': 1.0, 'Phot.': 89.0, 'GALEX_FUV_Err': 0.043676300000000001, 'R.A.': '01:14:15.34', '2MASS_J_Err': 0.11, 'GALEX_NUV_Err': 0.0246766, '2MASS_J': 15.427, 'IRAS_25m_Err': nan, 'SDSS_u_Err': nan, 'IRAS_12m': nan, 'Host_z': nan, 'IRAS_25m': nan, 'Name': 'PS1-14aen', 'SDSS_g': nan, 'SDSS_i': nan, 'IRAS_60m': nan, 'GALEX_NUV': 19.357299999999999, 'SDSS_r': nan, 'SDSS_u': nan, 'IRAS_100m': nan, 'SDSS_r_Err': nan, 'ned_identifier': '7223aa07c9654befb3879323eb350316', 'X-ray': nan, 'SDSS_z_Err': nan, '2MASS_Ks_Err': 0.114, 'GALEX_FUV': 19.413799999999998, '2MASS_Ks': 14.012, 'Radio': nan, '2NASS_H': nan, 'Host_RA': 18.564, 'z': 'nan', 'Host Name': '2MASX J01141535+0319446'}\n",
      "\n",
      "\n",
      "{'2NASS_H_Err': nan, 'SDSS_g_Err': 0.28399999999999997, 'IRAS_60m_Err': nan, 'IRAS_100m_Err': nan, 'IRAS_12m_Err': nan, 'Disc. Date': '2014/12/18', 'SDSS_i_Err': 0.125, 'Type': 'nan', 'SDSS_z': 21.228000000000002, 'Host_Dec': 14.404909999999999, 'Spec.': nan, 'mmax': 21.030000000000001, 'Dec.': '+14:24:13.5', 'ned_searched': 1.0, 'Phot.': 87.0, 'GALEX_FUV_Err': nan, 'R.A.': '10:03:39.78', '2MASS_J_Err': nan, 'GALEX_NUV_Err': nan, '2MASS_J': nan, 'IRAS_25m_Err': nan, 'SDSS_u_Err': 0.47699999999999998, 'IRAS_12m': nan, 'Host_z': nan, 'IRAS_25m': nan, 'Name': 'PS1-14agf', 'SDSS_g': 23.433, 'SDSS_i': 21.588999999999999, 'IRAS_60m': nan, 'GALEX_NUV': nan, 'SDSS_r': 22.061, 'SDSS_u': 26.266999999999999, 'IRAS_100m': nan, 'SDSS_r_Err': 0.125, 'ned_identifier': '3950985e4b5945fd83d33561df1ff3de', 'X-ray': nan, 'SDSS_z_Err': 0.30099999999999999, '2MASS_Ks_Err': nan, 'GALEX_FUV': nan, '2MASS_Ks': nan, 'Radio': nan, '2NASS_H': nan, 'Host_RA': 150.91931, 'z': 'nan', 'Host Name': 'nan'}\n",
      "\n",
      "\n",
      "{'2NASS_H_Err': nan, 'SDSS_g_Err': nan, 'IRAS_60m_Err': nan, 'IRAS_100m_Err': nan, 'IRAS_12m_Err': nan, 'Disc. Date': '2012/11/06', 'SDSS_i_Err': nan, 'Type': 'nan', 'SDSS_z': nan, 'Host_Dec': -67.654110000000003, 'Spec.': nan, 'mmax': 18.82, 'Dec.': '-67:39:12.63', 'ned_searched': 1.0, 'Phot.': 86.0, 'GALEX_FUV_Err': nan, 'R.A.': '01:30:57.961', '2MASS_J_Err': 0.122, 'GALEX_NUV_Err': nan, '2MASS_J': 14.733000000000001, 'IRAS_25m_Err': nan, 'SDSS_u_Err': nan, 'IRAS_12m': nan, 'Host_z': nan, 'IRAS_25m': nan, 'Name': 'OGLE-2013-SN-008', 'SDSS_g': nan, 'SDSS_i': nan, 'IRAS_60m': nan, 'GALEX_NUV': nan, 'SDSS_r': nan, 'SDSS_u': nan, 'IRAS_100m': nan, 'SDSS_r_Err': nan, 'ned_identifier': '2ab1b94a908348c9b6f67fe2e2e312a3', 'X-ray': nan, 'SDSS_z_Err': nan, '2MASS_Ks_Err': 0.187, 'GALEX_FUV': nan, '2MASS_Ks': 13.526999999999999, 'Radio': nan, '2NASS_H': nan, 'Host_RA': 22.741790000000002, 'z': 'nan', 'Host Name': 'nan'}\n",
      "\n",
      "\n",
      "{'2NASS_H_Err': nan, 'SDSS_g_Err': nan, 'IRAS_60m_Err': nan, 'IRAS_100m_Err': nan, 'IRAS_12m_Err': nan, 'Disc. Date': '2014/12/18', 'SDSS_i_Err': nan, 'Type': 'nan', 'SDSS_z': nan, 'Host_Dec': 1.34474, 'Spec.': nan, 'mmax': 20.890000000000001, 'Dec.': '+01:20:40.7', 'ned_searched': 1.0, 'Phot.': 77.0, 'GALEX_FUV_Err': 0.13836000000000001, 'R.A.': '03:24:54.17', '2MASS_J_Err': nan, 'GALEX_NUV_Err': 0.065801999999999999, '2MASS_J': nan, 'IRAS_25m_Err': nan, 'SDSS_u_Err': nan, 'IRAS_12m': nan, 'Host_z': nan, 'IRAS_25m': nan, 'Name': 'PS1-14aex', 'SDSS_g': nan, 'SDSS_i': nan, 'IRAS_60m': nan, 'GALEX_NUV': 21.9374, 'SDSS_r': nan, 'SDSS_u': nan, 'IRAS_100m': nan, 'SDSS_r_Err': nan, 'ned_identifier': '6ab7a1c4f02c4838944ba576fd4cba77', 'X-ray': nan, 'SDSS_z_Err': nan, '2MASS_Ks_Err': nan, 'GALEX_FUV': 22.434200000000001, '2MASS_Ks': nan, 'Radio': nan, '2NASS_H': nan, 'Host_RA': 51.225610000000003, 'z': 'nan', 'Host Name': 'APMUKS(BJ) B032219.26+011009.0'}\n",
      "\n",
      "\n",
      "{'2NASS_H_Err': nan, 'SDSS_g_Err': nan, 'IRAS_60m_Err': nan, 'IRAS_100m_Err': nan, 'IRAS_12m_Err': nan, 'Disc. Date': '2013/07/01', 'SDSS_i_Err': nan, 'Type': 'nan', 'SDSS_z': nan, 'Host_Dec': -76.352829999999997, 'Spec.': nan, 'mmax': 19.07, 'Dec.': '-76:21:10.4', 'ned_searched': 1.0, 'Phot.': 76.0, 'GALEX_FUV_Err': 0.40149099999999999, 'R.A.': '23:16:01.97', '2MASS_J_Err': 0.11, 'GALEX_NUV_Err': 0.24037900000000001, '2MASS_J': 14.403, 'IRAS_25m_Err': nan, 'SDSS_u_Err': nan, 'IRAS_12m': nan, 'Host_z': nan, 'IRAS_25m': nan, 'Name': 'OGLE-2013-SN-033', 'SDSS_g': nan, 'SDSS_i': nan, 'IRAS_60m': nan, 'GALEX_NUV': 21.8264, 'SDSS_r': nan, 'SDSS_u': nan, 'IRAS_100m': nan, 'SDSS_r_Err': nan, 'ned_identifier': '6fcbf36ff5b64e8cb68faa4d6bed00cf', 'X-ray': nan, 'SDSS_z_Err': nan, '2MASS_Ks_Err': 0.114, 'GALEX_FUV': 21.731999999999999, '2MASS_Ks': 13.597, 'Radio': nan, '2NASS_H': nan, 'Host_RA': 349.00803999999999, 'z': 'nan', 'Host Name': 'nan'}\n",
      "\n",
      "\n",
      "{'2NASS_H_Err': nan, 'SDSS_g_Err': nan, 'IRAS_60m_Err': nan, 'IRAS_100m_Err': nan, 'IRAS_12m_Err': nan, 'Disc. Date': '2012/07/03', 'SDSS_i_Err': nan, 'Type': 'nan', 'SDSS_z': nan, 'Host_Dec': -72.999750000000006, 'Spec.': nan, 'mmax': 19.129999999999999, 'Dec.': '-73:00:02.6', 'ned_searched': 1.0, 'Phot.': 72.0, 'GALEX_FUV_Err': 0.66442699999999999, 'R.A.': '03:09:20.61', '2MASS_J_Err': 0.068000000000000005, 'GALEX_NUV_Err': 0.27173399999999998, '2MASS_J': 13.528, 'IRAS_25m_Err': nan, 'SDSS_u_Err': nan, 'IRAS_12m': nan, 'Host_z': 0.062039999999999998, 'IRAS_25m': nan, 'Name': 'OGLE-2012-SN-017', 'SDSS_g': nan, 'SDSS_i': nan, 'IRAS_60m': nan, 'GALEX_NUV': 20.984100000000002, 'SDSS_r': nan, 'SDSS_u': nan, 'IRAS_100m': nan, 'SDSS_r_Err': nan, 'ned_identifier': 'b0bdeb2635b447b59d81c8ae6c699063', 'X-ray': nan, 'SDSS_z_Err': nan, '2MASS_Ks_Err': 0.091999999999999998, 'GALEX_FUV': 21.637599999999999, '2MASS_Ks': 12.574999999999999, 'Radio': nan, '2NASS_H': nan, 'Host_RA': 47.346040000000002, 'z': 'nan', 'Host Name': 'nan'}\n",
      "\n",
      "\n"
     ]
    }
   ],
   "source": [
    "#show first 10 entries with \"nan\" type.\n",
    "j = 0\n",
    "nan_type_dict = {}\n",
    "\n",
    "columns = hdulist[1].columns.names\n",
    "for i in range(len(hdulist[1].data)):\n",
    "    if hdulist[1].data[i][7] == 'nan' and j < 10:\n",
    "        for k in range(len(columns)):\n",
    "            nan_type_dict[columns[k]] = hdulist[1].data[i][k]\n",
    "            \n",
    "        j += 1\n",
    "        print str(nan_type_dict)+\"\\n\\n\""
   ]
  },
  {
   "cell_type": "code",
   "execution_count": 28,
   "metadata": {},
   "outputs": [],
   "source": [
    "# #A list that show all the entries with \"nan\" type. (7945 in total)\n",
    "# j=0\n",
    "# for i in range(len(hdulist[1].data)):\n",
    "#       if j<=len(hdulist[1].data) and hdulist[1].data[i][7] ==  'nan':\n",
    "#               j+=1\n",
    "#               print (str(hdulist[1].data[i])+\"\\n\")\n",
    "# print (j)"
   ]
  },
  {
   "cell_type": "code",
   "execution_count": 24,
   "metadata": {},
   "outputs": [
    {
     "name": "stdout",
     "output_type": "stream",
     "text": [
      "{'2NASS_H_Err': 15550, 'SDSS_g_Err': 8901, 'IRAS_60m_Err': 11529, 'IRAS_100m_Err': 12192, 'IRAS_12m_Err': 13153, 'Disc. Date': 1865, 'SDSS_i_Err': 8901, 'Type': 7945, 'SDSS_z': 8901, 'Host_Dec': 0, 'Spec.': 12855, 'mmax': 2489, 'Dec.': 15, 'ned_searched': 0, 'Phot.': 2167, 'GALEX_FUV_Err': 9196, 'R.A.': 15, '2MASS_J_Err': 8800, 'GALEX_NUV_Err': 8993, '2MASS_J': 8800, 'IRAS_25m_Err': 14282, 'SDSS_u_Err': 8901, 'IRAS_12m': 13152, 'Host_z': 6337, 'IRAS_25m': 14280, 'Name': 0, 'SDSS_g': 8901, 'SDSS_i': 8901, 'IRAS_60m': 11529, 'GALEX_NUV': 8993, 'SDSS_r': 8901, 'SDSS_u': 8901, 'IRAS_100m': 12192, 'SDSS_r_Err': 8901, 'ned_identifier': 0, 'X-ray': 15530, 'SDSS_z_Err': 8901, '2MASS_Ks_Err': 8800, 'GALEX_FUV': 9196, '2MASS_Ks': 8800, 'Radio': 15459, '2NASS_H': 15550, 'Host_RA': 0, 'z': 8690, 'Host Name': 4392}\n"
     ]
    }
   ],
   "source": [
    "#show how many \"nan\"s (out of 15550)for each feature \n",
    "nan_type_number = {}\n",
    "\n",
    "for j in range(len(cols.names)):\n",
    "    k=0\n",
    "    for i in range(len(hdulist[1].data)):\n",
    "        if str(hdulist[1].data[i][j]) == 'nan':\n",
    "            k += 1 \n",
    "    nan_type_number[cols.names[j]] = k\n",
    "print nan_type_number"
   ]
  },
  {
   "cell_type": "markdown",
   "metadata": {},
   "source": []
  }
 ],
 "metadata": {
  "kernelspec": {
   "display_name": "Python 2",
   "language": "python",
   "name": "python2"
  },
  "language_info": {
   "codemirror_mode": {
    "name": "ipython",
    "version": 2
   },
   "file_extension": ".py",
   "mimetype": "text/x-python",
   "name": "python",
   "nbconvert_exporter": "python",
   "pygments_lexer": "ipython2",
   "version": "2.7.13"
  }
 },
 "nbformat": 4,
 "nbformat_minor": 2
}
